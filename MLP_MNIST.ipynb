{
 "cells": [
  {
   "cell_type": "markdown",
   "metadata": {},
   "source": [
    "## Hyper-parameter"
   ]
  },
  {
   "cell_type": "code",
   "execution_count": 1,
   "metadata": {
    "collapsed": true
   },
   "outputs": [],
   "source": [
    "import sys\n",
    "sys.path.append('..')\n",
    "import utils\n",
    "import mxnet as mx\n",
    "\n",
    "num_epochs = 100\n",
    "learning_rate = 0.1\n",
    "weight_decay = 5e-4\n",
    "lr_period = 30\n",
    "lr_decay = 0.1\n",
    "batch_size = 30\n",
    "epoch_period = 10\n",
    "ctx = utils.try_gpu()"
   ]
  },
  {
   "cell_type": "markdown",
   "metadata": {},
   "source": [
    "## Define Model"
   ]
  },
  {
   "cell_type": "code",
   "execution_count": 2,
   "metadata": {
    "attributes": {
     "classes": [],
     "id": "",
     "n": "5"
    },
    "collapsed": true
   },
   "outputs": [],
   "source": [
    "from mxnet import gluon\n",
    "from mxnet import init\n",
    "drop_prob1 = 0.1\n",
    "drop_prob2 = 0.1\n",
    "net = gluon.nn.Sequential()\n",
    "with net.name_scope():\n",
    "    net.add(gluon.nn.Flatten())\n",
    "    net.add(gluon.nn.Dense(64, activation=\"relu\"))\n",
    "    net.add(gluon.nn.Dropout(drop_prob1))\n",
    "    net.add(gluon.nn.Dense(32, activation=\"relu\"))\n",
    "    net.add(gluon.nn.Dropout(drop_prob2))\n",
    "    net.add(gluon.nn.Dense(10))\n",
    "net.initialize(ctx=ctx, init=init.Xavier())"
   ]
  },
  {
   "cell_type": "markdown",
   "metadata": {},
   "source": [
    "## Loading data and define Loss and Trainer"
   ]
  },
  {
   "cell_type": "code",
   "execution_count": 3,
   "metadata": {
    "attributes": {
     "classes": [],
     "id": "",
     "n": "6"
    },
    "collapsed": true
   },
   "outputs": [],
   "source": [
    "from mxnet import ndarray as nd\n",
    "from mxnet import autograd\n",
    "from mxnet import image\n",
    "import utils\n",
    "import numpy as np\n",
    "\n",
    "\n",
    "fmnist_root=\"~/.mxnet/datasets/fashion-mnist\"\n",
    "mnist_root = \"~/.mxnet/datasets/mnist\"\n",
    "\n",
    "def easy_transform(data, label):\n",
    "    return data.astype('float32')/255, label.astype('float32')\n",
    "\n",
    "def transform_train(data, label):\n",
    "    im = data.astype('float32') / 255\n",
    "    auglist = image.CreateAugmenter(data_shape=(3, 32, 32), resize=0, \n",
    "                        rand_crop=False, rand_resize=False, rand_mirror=True,\n",
    "                        mean=np.array([0.4914, 0.4822, 0.4465]), \n",
    "                        std=np.array([0.2023, 0.1994, 0.2010]), \n",
    "                        brightness=0, contrast=0, \n",
    "                        saturation=0, hue=0, \n",
    "                        pca_noise=0, rand_gray=0, inter_method=2)\n",
    "    for aug in auglist:\n",
    "        im = aug(im)\n",
    "    im = nd.transpose(im, (2,0,1))\n",
    "    return (im, nd.array([label]).asscalar().astype('float32'))\n",
    "\n",
    "def transform_test(data, label):\n",
    "    im = data.astype('float32') / 255\n",
    "    auglist = image.CreateAugmenter(data_shape=(3, 32, 32), \n",
    "                        mean=np.array([0.4914, 0.4822, 0.4465]), \n",
    "                        std=np.array([0.2023, 0.1994, 0.2010]))\n",
    "    for aug in auglist:\n",
    "        im = aug(im)\n",
    "    im = nd.transpose(im, (2,0,1))\n",
    "    return (im, nd.array([label]).asscalar().astype('float32'))\n",
    "\n",
    "def dataset_split(data, ratio):\n",
    "    split_point = int(len(data) * ratio)\n",
    "    data=data[:]\n",
    "    X = data[0]\n",
    "    y = nd.array(data[1])\n",
    "    n = X.shape[0]\n",
    "    idx = np.arange(n)\n",
    "    np.random.shuffle(idx)\n",
    "    X = nd.array(X.asnumpy()[idx])\n",
    "    y = nd.array(y.asnumpy()[idx])\n",
    "    X_train = X[:split_point]\n",
    "    y_train = y[:split_point]\n",
    "    X_valid = X[split_point:]\n",
    "    y_valid = y[split_point:]\n",
    "    train_dataset= gluon.data.ArrayDataset(X_train, y_train)\n",
    "    test_dataset = gluon.data.ArrayDataset(X_valid, y_valid)\n",
    "    return train_dataset, test_dataset\n",
    "\n",
    "def evaluate_loss(loss_func, data_iterator, net, ctx=[mx.cpu()]):\n",
    "    if isinstance(ctx, mx.Context):\n",
    "        ctx = [ctx]\n",
    "    total_loss = 0.0\n",
    "    if isinstance(data_iterator, mx.io.MXDataIter):\n",
    "        data_iterator.reset()\n",
    "    for data, label in data_iterator:\n",
    "        cur_loss = softmax_cross_entropy(net(data), label).copyto(mx.cpu())\n",
    "        total_loss += nd.mean(cur_loss).asscalar()\n",
    "    return total_loss\n",
    "\n",
    "validation_ratio = 0.3\n",
    "\n",
    "mnist_train_valid = gluon.data.vision.MNIST(train=True, transform=easy_transform)\n",
    "mnist_test = gluon.data.vision.MNIST(train=False, transform=easy_transform)\n",
    "mnist_train, mnist_valid = dataset_split(mnist_train_valid, validation_ratio)\n",
    "\n",
    "# cifar_train_valid = gluon.data.vision.CIFAR10(train=True, transform=easy_transform)\n",
    "# cifar_test = gluon.data.vision.CIFAR10(train=False, transform=easy_transform)\n",
    "# cifar_train, cifar_valid = dataset_split(cifar_train_valid, validation_ratio)"
   ]
  },
  {
   "cell_type": "code",
   "execution_count": 4,
   "metadata": {
    "collapsed": true
   },
   "outputs": [],
   "source": [
    "train_data = gluon.data.DataLoader(mnist_train, batch_size, shuffle=True, last_batch='keep')\n",
    "valid_data = gluon.data.DataLoader(mnist_valid, batch_size, shuffle=True, last_batch='keep')\n",
    "train_valid_data = gluon.data.DataLoader(mnist_train_valid, batch_size, shuffle=True, last_batch='keep')\n",
    "\n",
    "# \n",
    "# train_data = gluon.data.DataLoader(cifar_train, batch_size, shuffle=True, last_batch='keep')\n",
    "# valid_data = gluon.data.DataLoader(cifar_valid, batch_size, shuffle=True, last_batch='keep')\n",
    "# train_valid_data = gluon.data.DataLoader(mnist_train_valid, batch_size, shuffle=True, last_batch='keep')\n",
    "# \n",
    "\n",
    "test_data = gluon.data.DataLoader(mnist_test, batch_size, shuffle=False, last_batch='keep')\n",
    "softmax_cross_entropy = gluon.loss.SoftmaxCrossEntropyLoss()"
   ]
  },
  {
   "cell_type": "markdown",
   "metadata": {},
   "source": [
    "## Training and testing"
   ]
  },
  {
   "cell_type": "code",
   "execution_count": 19,
   "metadata": {},
   "outputs": [],
   "source": [
    "import datetime\n",
    "\n",
    "def train(net, train_data, valid_data, epochs, lr, wd, lr_period, lr_decay, epoch_period, ctx):\n",
    "    trainer = gluon.Trainer(\n",
    "        net.collect_params(), 'sgd', {'learning_rate': lr, 'momentum': 0.9, 'wd': wd})\n",
    "    prev_time = datetime.datetime.now()\n",
    "    net.collect_params().initialize(force_reinit=True)\n",
    "    cur_train_loss = [evaluate_loss(softmax_cross_entropy,train_data, net, ctx) / len(train_data)]\n",
    "    if valid_data is not None:\n",
    "        cur_valid_loss = [evaluate_loss(softmax_cross_entropy,valid_data, net, ctx) / len(valid_data)]\n",
    "    print(\"start\")\n",
    "    for epoch in range(1, num_epochs + 1):\n",
    "        train_loss = 0.0\n",
    "        train_acc = 0.0\n",
    "        if epoch > 0 and epoch % lr_period == 0:\n",
    "            trainer.set_learning_rate(trainer.learning_rate * lr_decay)\n",
    "        for data, label in train_data:\n",
    "            label = label.as_in_context(ctx)\n",
    "            with autograd.record():\n",
    "                output = net(data.as_in_context(ctx))\n",
    "                loss = softmax_cross_entropy(output, label)\n",
    "            loss.backward()\n",
    "            trainer.step(batch_size)\n",
    "            train_loss += nd.mean(loss).asscalar()\n",
    "            train_acc += utils.accuracy(output, label)\n",
    "        \n",
    "        cur_time = datetime.datetime.now()\n",
    "        h, remainder = divmod((cur_time - prev_time).seconds, 3600)\n",
    "        m, s = divmod(remainder, 60)\n",
    "        time_str = \"Time %02d:%02d:%02d\" % (h, m, s)\n",
    "        cur_train_loss.append(train_loss / len(train_data))\n",
    "        \n",
    "        if valid_data != None:\n",
    "            valid_acc = utils.evaluate_accuracy(valid_data, net, ctx)   \n",
    "            cur_valid_loss.append(evaluate_loss(softmax_cross_entropy,valid_data, net, ctx) / len(valid_data))\n",
    "            epoch_str = (\"Epoch %d. Loss: %f, Train acc %f, Valid acc %f, \"\n",
    "                            % (epoch, train_loss / len(train_data),\n",
    "                            train_acc / len(train_data), valid_acc))\n",
    "        else:\n",
    "            epoch_str = (\"Epoch %d. Loss: %f, Train acc %f \"\n",
    "                            % (epoch, train_loss / len(train_data), train_acc / len(train_data)))\n",
    "        \n",
    "        prev_time = cur_time\n",
    "        if epoch % epoch_period == 0 or epoch == epochs - 1 or epoch == 1:\n",
    "            print(epoch_str + time_str + ', lr ' + str(trainer.learning_rate))\n",
    "                         \n",
    "    if valid_data != None:\n",
    "        return cur_train_loss, cur_valid_loss\n",
    "    else:\n",
    "        return cur_train_loss"
   ]
  },
  {
   "cell_type": "code",
   "execution_count": 12,
   "metadata": {},
   "outputs": [
    {
     "name": "stdout",
     "output_type": "stream",
     "text": [
      "start\n",
      "Epoch 1. Loss: 0.746879, Train acc 0.769667, Valid acc 0.900762, Time 00:00:04, lr 0.1\n",
      "Epoch 10. Loss: 0.367096, Train acc 0.900278, Valid acc 0.925071, Time 00:00:04, lr 0.1\n",
      "Epoch 20. Loss: 0.365886, Train acc 0.902444, Valid acc 0.923119, Time 00:00:04, lr 0.1\n",
      "Epoch 30. Loss: 0.220623, Train acc 0.941333, Valid acc 0.949167, Time 00:00:04, lr 0.010000000000000002\n",
      "Epoch 40. Loss: 0.107217, Train acc 0.969222, Valid acc 0.957762, Time 00:00:05, lr 0.010000000000000002\n",
      "Epoch 50. Loss: 0.089153, Train acc 0.975833, Valid acc 0.958143, Time 00:00:04, lr 0.010000000000000002\n",
      "Epoch 60. Loss: 0.069405, Train acc 0.980000, Valid acc 0.961214, Time 00:00:03, lr 0.0010000000000000002\n",
      "Epoch 70. Loss: 0.063618, Train acc 0.982611, Valid acc 0.961500, Time 00:00:04, lr 0.0010000000000000002\n",
      "Epoch 80. Loss: 0.061618, Train acc 0.983167, Valid acc 0.961857, Time 00:00:04, lr 0.0010000000000000002\n",
      "Epoch 90. Loss: 0.059926, Train acc 0.984000, Valid acc 0.961595, Time 00:00:04, lr 0.00010000000000000003\n",
      "Epoch 99. Loss: 0.057269, Train acc 0.985000, Valid acc 0.961762, Time 00:00:04, lr 0.00010000000000000003\n",
      "Epoch 100. Loss: 0.058654, Train acc 0.984222, Valid acc 0.961643, Time 00:00:05, lr 0.00010000000000000003\n"
     ]
    }
   ],
   "source": [
    "train_loss, valid_loss = train(net, train_data, valid_data, num_epochs, learning_rate, weight_decay, lr_period, lr_decay, epoch_period, ctx)"
   ]
  },
  {
   "cell_type": "code",
   "execution_count": 13,
   "metadata": {},
   "outputs": [
    {
     "data": {
      "text/plain": [
       "<matplotlib.legend.Legend at 0x12f34fd30>"
      ]
     },
     "execution_count": 13,
     "metadata": {},
     "output_type": "execute_result"
    },
    {
     "data": {
      "image/png": "[encoded data removed]",
      "text/plain": [
       "<matplotlib.figure.Figure at 0x11102de48>"
      ]
     },
     "metadata": {},
     "output_type": "display_data"
    }
   ],
   "source": [
    "%matplotlib inline\n",
    "import matplotlib as mpl\n",
    "mpl.rcParams['figure.dpi']= 120\n",
    "import matplotlib.pyplot as plt\n",
    "\n",
    "plt.plot(train_loss)\n",
    "plt.plot(valid_loss)\n",
    "plt.legend(['train','test'])"
   ]
  },
  {
   "cell_type": "code",
   "execution_count": 20,
   "metadata": {},
   "outputs": [
    {
     "name": "stdout",
     "output_type": "stream",
     "text": [
      "start\n",
      "Epoch 1. Loss: 0.529785, Train acc 0.847450 Time 00:00:17, lr 0.1\n",
      "Epoch 10. Loss: 0.397663, Train acc 0.896533 Time 00:00:10, lr 0.1\n",
      "Epoch 20. Loss: 0.399428, Train acc 0.894283 Time 00:00:10, lr 0.1\n",
      "Epoch 30. Loss: 0.258840, Train acc 0.931367 Time 00:00:09, lr 0.010000000000000002\n",
      "Epoch 40. Loss: 0.157921, Train acc 0.954117 Time 00:00:09, lr 0.010000000000000002\n",
      "Epoch 50. Loss: 0.139286, Train acc 0.959283 Time 00:00:10, lr 0.010000000000000002\n",
      "Epoch 60. Loss: 0.107241, Train acc 0.968417 Time 00:00:09, lr 0.0010000000000000002\n",
      "Epoch 70. Loss: 0.101243, Train acc 0.970750 Time 00:00:09, lr 0.0010000000000000002\n",
      "Epoch 80. Loss: 0.095782, Train acc 0.971233 Time 00:00:09, lr 0.0010000000000000002\n",
      "Epoch 90. Loss: 0.093222, Train acc 0.972467 Time 00:00:09, lr 0.00010000000000000003\n",
      "Epoch 99. Loss: 0.091324, Train acc 0.973750 Time 00:00:09, lr 0.00010000000000000003\n",
      "Epoch 100. Loss: 0.092046, Train acc 0.973083 Time 00:00:10, lr 0.00010000000000000003\n"
     ]
    }
   ],
   "source": [
    "train_loss = train(net, train_valid_data, None, num_epochs, learning_rate, weight_decay, lr_period, lr_decay, epoch_period, ctx)"
   ]
  },
  {
   "cell_type": "code",
   "execution_count": 25,
   "metadata": {},
   "outputs": [
    {
     "name": "stdout",
     "output_type": "stream",
     "text": [
      "the final test_acc 0.972400\n"
     ]
    }
   ],
   "source": [
    "test_acc = utils.evaluate_accuracy(test_data, net, ctx)\n",
    "print( \"the final test_acc %f\" %(test_acc))"
   ]
  },
  {
   "cell_type": "code",
   "execution_count": null,
   "metadata": {
    "collapsed": true
   },
   "outputs": [],
   "source": []
  }
 ],
 "metadata": {
  "kernelspec": {
   "display_name": "Python 3",
   "language": "python",
   "name": "python3"
  },
  "language_info": {
   "codemirror_mode": {
    "name": "ipython",
    "version": 3
   },
   "file_extension": ".py",
   "mimetype": "text/x-python",
   "name": "python",
   "nbconvert_exporter": "python",
   "pygments_lexer": "ipython3",
   "version": "3.6.3"
  }
 },
 "nbformat": 4,
 "nbformat_minor": 2
}
